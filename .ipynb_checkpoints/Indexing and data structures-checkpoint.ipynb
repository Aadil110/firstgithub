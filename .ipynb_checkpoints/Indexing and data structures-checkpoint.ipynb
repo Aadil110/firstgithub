{
 "cells": [
  {
   "cell_type": "markdown",
   "id": "f2f3bfbf-17fc-4af0-a178-b5f467f15e02",
   "metadata": {},
   "source": [
    "# Indexing"
   ]
  },
  {
   "cell_type": "code",
   "execution_count": 35,
   "id": "af15f4d1-61d0-479e-8cad-b18d7936f020",
   "metadata": {},
   "outputs": [
    {
     "data": {
      "text/plain": [
       "'Samosa Pakora'"
      ]
     },
     "execution_count": 35,
     "metadata": {},
     "output_type": "execute_result"
    }
   ],
   "source": [
    "a=\"Samosa Pakora\"\n",
    "a"
   ]
  },
  {
   "cell_type": "code",
   "execution_count": 48,
   "id": "7e416b07-f2c2-45eb-ada5-ce59fdc00f5f",
   "metadata": {},
   "outputs": [
    {
     "data": {
      "text/plain": [
       "13"
      ]
     },
     "execution_count": 48,
     "metadata": {},
     "output_type": "execute_result"
    }
   ],
   "source": [
    "#length of indicies\n",
    "len(a)"
   ]
  },
  {
   "cell_type": "code",
   "execution_count": 37,
   "id": "01e2e6e8-2439-460b-b96e-02e63c1ede20",
   "metadata": {},
   "outputs": [
    {
     "data": {
      "text/plain": [
       "'S'"
      ]
     },
     "execution_count": 37,
     "metadata": {},
     "output_type": "execute_result"
    }
   ],
   "source": [
    "a[0]"
   ]
  },
  {
   "cell_type": "code",
   "execution_count": 39,
   "id": "362440d4-7266-44a2-a9db-d63797510c01",
   "metadata": {},
   "outputs": [
    {
     "data": {
      "text/plain": [
       "'a'"
      ]
     },
     "execution_count": 39,
     "metadata": {},
     "output_type": "execute_result"
    }
   ],
   "source": [
    "a[1]"
   ]
  },
  {
   "cell_type": "code",
   "execution_count": 41,
   "id": "ee2d8fd9-5623-4e6d-83d8-a21f6d348f60",
   "metadata": {},
   "outputs": [
    {
     "data": {
      "text/plain": [
       "'a'"
      ]
     },
     "execution_count": 41,
     "metadata": {},
     "output_type": "execute_result"
    }
   ],
   "source": [
    "a[12]"
   ]
  },
  {
   "cell_type": "code",
   "execution_count": 45,
   "id": "d81baf19-ce96-48a7-913f-bfe06ac4f927",
   "metadata": {},
   "outputs": [
    {
     "data": {
      "text/plain": [
       "'o'"
      ]
     },
     "execution_count": 45,
     "metadata": {},
     "output_type": "execute_result"
    }
   ],
   "source": [
    "a[10]"
   ]
  },
  {
   "cell_type": "code",
   "execution_count": 50,
   "id": "d5882335-e1ac-4fcd-a04c-ed7f43ba3648",
   "metadata": {},
   "outputs": [
    {
     "data": {
      "text/plain": [
       "'Samosa P'"
      ]
     },
     "execution_count": 50,
     "metadata": {},
     "output_type": "execute_result"
    }
   ],
   "source": [
    "a[0:8]"
   ]
  },
  {
   "cell_type": "code",
   "execution_count": 56,
   "id": "b77daec9-78b6-4e87-9f8a-0be60fb23d15",
   "metadata": {},
   "outputs": [
    {
     "data": {
      "text/plain": [
       "'Pako'"
      ]
     },
     "execution_count": 56,
     "metadata": {},
     "output_type": "execute_result"
    }
   ],
   "source": [
    "a[-6:-2]"
   ]
  },
  {
   "cell_type": "code",
   "execution_count": 58,
   "id": "4c681bea-cc28-4802-8b68-47f8ae96d92a",
   "metadata": {},
   "outputs": [
    {
     "data": {
      "text/plain": [
       "'Biryani'"
      ]
     },
     "execution_count": 58,
     "metadata": {},
     "output_type": "execute_result"
    }
   ],
   "source": [
    "food=\"biryani\"\n",
    "food"
   ]
  },
  {
   "cell_type": "markdown",
   "id": "94909510-aaf9-4813-82e9-2899746a01a8",
   "metadata": {},
   "source": [
    "### String Methods"
   ]
  },
  {
   "cell_type": "code",
   "execution_count": 62,
   "id": "6940057f-f217-45d9-a3a6-210348d7c877",
   "metadata": {},
   "outputs": [
    {
     "data": {
      "text/plain": [
       "'Biryani'"
      ]
     },
     "execution_count": 62,
     "metadata": {},
     "output_type": "execute_result"
    }
   ],
   "source": [
    "food"
   ]
  },
  {
   "cell_type": "code",
   "execution_count": 64,
   "id": "2cfd78c7-1f57-4cfe-994e-72ca07fa4675",
   "metadata": {},
   "outputs": [
    {
     "data": {
      "text/plain": [
       "7"
      ]
     },
     "execution_count": 64,
     "metadata": {},
     "output_type": "execute_result"
    }
   ],
   "source": [
    "len(food)"
   ]
  },
  {
   "cell_type": "code",
   "execution_count": 66,
   "id": "44b415a1-0673-45b8-a1c5-519d07441140",
   "metadata": {},
   "outputs": [
    {
     "data": {
      "text/plain": [
       "'Biryani'"
      ]
     },
     "execution_count": 66,
     "metadata": {},
     "output_type": "execute_result"
    }
   ],
   "source": [
    "#capitalise first letter\n",
    "food.capitalize()"
   ]
  },
  {
   "cell_type": "code",
   "execution_count": 68,
   "id": "9fc1ea72-a42d-4778-9d03-ce26e833b14d",
   "metadata": {},
   "outputs": [
    {
     "data": {
      "text/plain": [
       "'BIRYANI'"
      ]
     },
     "execution_count": 68,
     "metadata": {},
     "output_type": "execute_result"
    }
   ],
   "source": [
    "#upper_case\n",
    "food.upper()"
   ]
  },
  {
   "cell_type": "code",
   "execution_count": 70,
   "id": "24a9d8a2-e1e4-4440-aefe-58050e84fcc6",
   "metadata": {},
   "outputs": [
    {
     "data": {
      "text/plain": [
       "'biryani'"
      ]
     },
     "execution_count": 70,
     "metadata": {},
     "output_type": "execute_result"
    }
   ],
   "source": [
    "#lower_case\n",
    "food.lower()"
   ]
  },
  {
   "cell_type": "code",
   "execution_count": 76,
   "id": "f4fcdfd4-ff18-42cf-9297-ef85fd94325b",
   "metadata": {},
   "outputs": [
    {
     "data": {
      "text/plain": [
       "'Biryani'"
      ]
     },
     "execution_count": 76,
     "metadata": {},
     "output_type": "execute_result"
    }
   ],
   "source": [
    "#replace\n",
    "food.replace(\"b\", \"sh\")"
   ]
  },
  {
   "cell_type": "code",
   "execution_count": 78,
   "id": "157ee351-822c-473e-9db1-beba063dc86c",
   "metadata": {},
   "outputs": [
    {
     "data": {
      "text/plain": [
       "'Birygood'"
      ]
     },
     "execution_count": 78,
     "metadata": {},
     "output_type": "execute_result"
    }
   ],
   "source": [
    "food.replace(\"ani\" , \"good\")"
   ]
  },
  {
   "cell_type": "code",
   "execution_count": 80,
   "id": "a03d4bc0-c371-463a-a4c7-769dd56fa6ce",
   "metadata": {},
   "outputs": [
    {
     "data": {
      "text/plain": [
       "'Shiryani'"
      ]
     },
     "execution_count": 80,
     "metadata": {},
     "output_type": "execute_result"
    }
   ],
   "source": [
    "food.replace(\"B\" , \"Sh\")"
   ]
  },
  {
   "cell_type": "code",
   "execution_count": 88,
   "id": "14e31a5e-787e-411c-bd9a-c3ce05dd1bd5",
   "metadata": {},
   "outputs": [
    {
     "data": {
      "text/plain": [
       "8"
      ]
     },
     "execution_count": 88,
     "metadata": {},
     "output_type": "execute_result"
    }
   ],
   "source": [
    "#counting a specific alphabet in a string\n",
    "name= \"baba_aammar with Dr.Aammar Tufail\"\n",
    "name.count(\"a\")"
   ]
  },
  {
   "cell_type": "markdown",
   "id": "d6328cba-5069-4129-9aae-b42255e167ad",
   "metadata": {},
   "source": [
    "### - Finding an Index number in string"
   ]
  },
  {
   "cell_type": "code",
   "execution_count": 90,
   "id": "042c7540-9d5a-450a-91a4-3ce17cce7f51",
   "metadata": {},
   "outputs": [
    {
     "data": {
      "text/plain": [
       "'baba_aammar with Dr.Aammar Tufail'"
      ]
     },
     "execution_count": 90,
     "metadata": {},
     "output_type": "execute_result"
    }
   ],
   "source": [
    "name= \"baba_aammar with Dr.Aammar Tufail\"\n",
    "name"
   ]
  },
  {
   "cell_type": "code",
   "execution_count": 92,
   "id": "74144b4e-76c0-48cb-8c50-d8601ef939fd",
   "metadata": {},
   "outputs": [
    {
     "data": {
      "text/plain": [
       "27"
      ]
     },
     "execution_count": 92,
     "metadata": {},
     "output_type": "execute_result"
    }
   ],
   "source": [
    "name.find(\"T\")"
   ]
  },
  {
   "cell_type": "code",
   "execution_count": 98,
   "id": "aa14cb7d-a2ea-4816-bb06-c610bf0f99f4",
   "metadata": {},
   "outputs": [
    {
     "data": {
      "text/plain": [
       "'I love samasoa, pakora, raita, karahi korma and biryani'"
      ]
     },
     "execution_count": 98,
     "metadata": {},
     "output_type": "execute_result"
    }
   ],
   "source": [
    "### - how to split a string\n",
    "food =\"I love samasoa, pakora, raita, karahi korma and biryani\"\n",
    "food"
   ]
  },
  {
   "cell_type": "code",
   "execution_count": 100,
   "id": "1b1a4dd9-5abf-47a8-b3a1-158a78e7417d",
   "metadata": {},
   "outputs": [
    {
     "data": {
      "text/plain": [
       "['I love samasoa', ' pakora', ' raita', ' karahi korma and biryani']"
      ]
     },
     "execution_count": 100,
     "metadata": {},
     "output_type": "execute_result"
    }
   ],
   "source": [
    "food.split(\",\")"
   ]
  },
  {
   "cell_type": "markdown",
   "id": "f28dd558-24d1-495e-a780-02bd8af76d25",
   "metadata": {},
   "source": [
    "# Basic Data Structure in python\n",
    "**1- Tuples**\n",
    "\n",
    "**2- List**\n",
    "\n",
    "**3- Dictionaries**\n",
    "\n",
    "**4- Set**\n"
   ]
  },
  {
   "cell_type": "markdown",
   "id": "c0757bdc-41ae-4138-be78-04a7367c39fc",
   "metadata": {},
   "source": [
    "## 1- Tuples\n",
    "- order collections of elements\n",
    "- enclosed in () round/paranthesis\n",
    "- Different king of elements can be stored\n",
    "- Once elements are stored, you can not change them (unmutable)"
   ]
  },
  {
   "cell_type": "code",
   "execution_count": null,
   "id": "d5d67ad2-b52a-48a6-8e02-4b6d9f1b5097",
   "metadata": {},
   "outputs": [],
   "source": [
    "- tup = ()\n",
    "- elements => strings, int, floats and Boolean, "
   ]
  },
  {
   "cell_type": "code",
   "execution_count": 112,
   "id": "c10700a8-60c2-4eb2-81da-64fe26cbfa43",
   "metadata": {},
   "outputs": [
    {
     "data": {
      "text/plain": [
       "('Python', 1, True, 2.5)"
      ]
     },
     "execution_count": 112,
     "metadata": {},
     "output_type": "execute_result"
    }
   ],
   "source": [
    "tup1 = (\"Python\", 1, True, 2.5 )\n",
    "tup1"
   ]
  },
  {
   "cell_type": "markdown",
   "id": "9f6fc2e6-83ce-4877-afcb-bfaf9474f2e0",
   "metadata": {},
   "source": [
    "# type of tuple\n",
    "type(tup1)\n"
   ]
  },
  {
   "cell_type": "markdown",
   "id": "fda95234-79d1-4dfd-957b-2e7794ddf716",
   "metadata": {},
   "source": [
    "### -Indexing in Tuple"
   ]
  },
  {
   "cell_type": "code",
   "execution_count": 125,
   "id": "fedde58b-788c-4bec-8868-212ef9a9a753",
   "metadata": {},
   "outputs": [
    {
     "data": {
      "text/plain": [
       "True"
      ]
     },
     "execution_count": 125,
     "metadata": {},
     "output_type": "execute_result"
    }
   ],
   "source": [
    "tup1[2]\n"
   ]
  },
  {
   "cell_type": "code",
   "execution_count": 129,
   "id": "88cbd451-3799-4065-9db9-a883f49569a3",
   "metadata": {},
   "outputs": [
    {
     "data": {
      "text/plain": [
       "1"
      ]
     },
     "execution_count": 129,
     "metadata": {},
     "output_type": "execute_result"
    }
   ],
   "source": [
    "tup1[1]"
   ]
  },
  {
   "cell_type": "code",
   "execution_count": 131,
   "id": "6f0b6dce-ffc7-4978-b6fb-70f9ed7e4225",
   "metadata": {},
   "outputs": [
    {
     "data": {
      "text/plain": [
       "2.5"
      ]
     },
     "execution_count": 131,
     "metadata": {},
     "output_type": "execute_result"
    }
   ],
   "source": [
    "tup1[3]"
   ]
  },
  {
   "cell_type": "code",
   "execution_count": 135,
   "id": "aafadc07-27be-4d83-9872-f4239af241c3",
   "metadata": {},
   "outputs": [
    {
     "data": {
      "text/plain": [
       "'Python'"
      ]
     },
     "execution_count": 135,
     "metadata": {},
     "output_type": "execute_result"
    }
   ],
   "source": [
    "tup1[0]"
   ]
  },
  {
   "cell_type": "code",
   "execution_count": 141,
   "id": "2a2f6834-18f2-41ad-b3b3-349772b0c3b5",
   "metadata": {},
   "outputs": [
    {
     "data": {
      "text/plain": [
       "('Python', 1, True)"
      ]
     },
     "execution_count": 141,
     "metadata": {},
     "output_type": "execute_result"
    }
   ],
   "source": [
    "tup1[0:3]"
   ]
  },
  {
   "cell_type": "code",
   "execution_count": 137,
   "id": "41d4c6c3-7a23-4aa7-a88c-431200008bef",
   "metadata": {},
   "outputs": [
    {
     "data": {
      "text/plain": [
       "4"
      ]
     },
     "execution_count": 137,
     "metadata": {},
     "output_type": "execute_result"
    }
   ],
   "source": [
    "#count of elements in tuple`\n",
    "len(tup1)"
   ]
  },
  {
   "cell_type": "code",
   "execution_count": 151,
   "id": "8e76fe15-42bf-4ea7-8127-6551ff31d41e",
   "metadata": {},
   "outputs": [
    {
     "data": {
      "text/plain": [
       "(2, 'Baba Aammar', 3, False)"
      ]
     },
     "execution_count": 151,
     "metadata": {},
     "output_type": "execute_result"
    }
   ],
   "source": [
    "tup2=(2,\"Baba Aammar\",3, False)\n",
    "tup2"
   ]
  },
  {
   "cell_type": "code",
   "execution_count": 153,
   "id": "7c49f233-8b18-4ebb-a9fb-7f7ae042bcf5",
   "metadata": {},
   "outputs": [
    {
     "data": {
      "text/plain": [
       "('Python', 1, True, 2.5, 2, 'Baba Aammar', 3, False)"
      ]
     },
     "execution_count": 153,
     "metadata": {},
     "output_type": "execute_result"
    }
   ],
   "source": [
    "#concatinate (to add two tuple or >2)\n",
    "tup1 + tup2"
   ]
  },
  {
   "cell_type": "code",
   "execution_count": 161,
   "id": "c36e3fe3-db4d-4e96-a7b8-63bb10163d5c",
   "metadata": {},
   "outputs": [
    {
     "data": {
      "text/plain": [
       "('Python', 1, True, 2.5, 'Python', 1, True, 2.5, 2, 'Baba Aammar', 3, False)"
      ]
     },
     "execution_count": 161,
     "metadata": {},
     "output_type": "execute_result"
    }
   ],
   "source": [
    "#concatinate + repeate\n",
    "tup1*2 + tup2"
   ]
  },
  {
   "cell_type": "code",
   "execution_count": 167,
   "id": "8515b11b-30a5-4103-871e-7707b69658f0",
   "metadata": {},
   "outputs": [
    {
     "data": {
      "text/plain": [
       "(20, 10, 30, 45, 55, 66, 76, 97)"
      ]
     },
     "execution_count": 167,
     "metadata": {},
     "output_type": "execute_result"
    }
   ],
   "source": [
    "tup3=(20,10,30,45,55,66,76,97)\n",
    "tup3"
   ]
  },
  {
   "cell_type": "code",
   "execution_count": 169,
   "id": "238dd344-3492-4283-b91c-c0814c0667f5",
   "metadata": {},
   "outputs": [
    {
     "data": {
      "text/plain": [
       "10"
      ]
     },
     "execution_count": 169,
     "metadata": {},
     "output_type": "execute_result"
    }
   ],
   "source": [
    "#minimum\n",
    "min(tup3)\n"
   ]
  },
  {
   "cell_type": "code",
   "execution_count": 171,
   "id": "d5d1ba50-62c5-4b58-ab1a-e20df23176eb",
   "metadata": {},
   "outputs": [
    {
     "data": {
      "text/plain": [
       "97"
      ]
     },
     "execution_count": 171,
     "metadata": {},
     "output_type": "execute_result"
    }
   ],
   "source": [
    "#maximum\n",
    "max(tup3)"
   ]
  },
  {
   "cell_type": "code",
   "execution_count": 173,
   "id": "9eb63d4c-c931-45fb-8f44-f53a07c1a666",
   "metadata": {},
   "outputs": [
    {
     "data": {
      "text/plain": [
       "(20, 10, 30, 45, 55, 66, 76, 97, 20, 10, 30, 45, 55, 66, 76, 97)"
      ]
     },
     "execution_count": 173,
     "metadata": {},
     "output_type": "execute_result"
    }
   ],
   "source": [
    "tup3*2"
   ]
  },
  {
   "cell_type": "markdown",
   "id": "bbf82090-b981-4f81-afc8-7f8a7cef09da",
   "metadata": {},
   "source": [
    "---"
   ]
  },
  {
   "cell_type": "markdown",
   "id": "95f3d95c-2b1d-4a2e-b77c-1e9adb8a52dc",
   "metadata": {},
   "source": [
    "## 2 lists\n",
    "- order collection of elements\n",
    "- enclosed in [] square bracket/braces\n",
    "- Mutable, you can change the values"
   ]
  },
  {
   "cell_type": "code",
   "execution_count": 191,
   "id": "56adea25-0b78-48a4-90ce-fdd0bda3770d",
   "metadata": {},
   "outputs": [
    {
     "data": {
      "text/plain": [
       "[2, 'Baba Aammar', False]"
      ]
     },
     "execution_count": 191,
     "metadata": {},
     "output_type": "execute_result"
    }
   ],
   "source": [
    "list1 = [2, \"Baba Aammar\", False]\n",
    "list1"
   ]
  },
  {
   "cell_type": "code",
   "execution_count": 193,
   "id": "fdb07958-bcb9-45b3-a2ae-d2fec258a433",
   "metadata": {},
   "outputs": [
    {
     "data": {
      "text/plain": [
       "3"
      ]
     },
     "execution_count": 193,
     "metadata": {},
     "output_type": "execute_result"
    }
   ],
   "source": [
    "len(list1)"
   ]
  },
  {
   "cell_type": "code",
   "execution_count": 195,
   "id": "39aa5620-322b-4221-b97d-9d937573d11b",
   "metadata": {},
   "outputs": [
    {
     "data": {
      "text/plain": [
       "list"
      ]
     },
     "execution_count": 195,
     "metadata": {},
     "output_type": "execute_result"
    }
   ],
   "source": [
    "type(list1)"
   ]
  },
  {
   "cell_type": "code",
   "execution_count": 199,
   "id": "6ed72dca-cc4a-45a1-a636-a2b1a274890f",
   "metadata": {},
   "outputs": [
    {
     "data": {
      "text/plain": [
       "False"
      ]
     },
     "execution_count": 199,
     "metadata": {},
     "output_type": "execute_result"
    }
   ],
   "source": [
    "list1[2]"
   ]
  },
  {
   "cell_type": "code",
   "execution_count": 203,
   "id": "c8e42c9e-e0a9-4def-9d20-c103b1e96916",
   "metadata": {},
   "outputs": [
    {
     "data": {
      "text/plain": [
       "[3, 5, 'baba aammar', 'Codanics', 478, 53.2, False]"
      ]
     },
     "execution_count": 203,
     "metadata": {},
     "output_type": "execute_result"
    }
   ],
   "source": [
    "list2=[3,5,\"baba aammar\", \"Codanics\", 478, 53.2, False]\n",
    "list2"
   ]
  },
  {
   "cell_type": "code",
   "execution_count": 205,
   "id": "08b89d02-eff6-4efc-8520-1256850ddf96",
   "metadata": {},
   "outputs": [
    {
     "data": {
      "text/plain": [
       "[2, 'Baba Aammar', False, 3, 5, 'baba aammar', 'Codanics', 478, 53.2, False]"
      ]
     },
     "execution_count": 205,
     "metadata": {},
     "output_type": "execute_result"
    }
   ],
   "source": [
    "list1 + list2"
   ]
  },
  {
   "cell_type": "code",
   "execution_count": 207,
   "id": "ccda3770-cfa5-49d3-865c-678c1df25346",
   "metadata": {},
   "outputs": [
    {
     "data": {
      "text/plain": [
       "[3,\n",
       " 5,\n",
       " 'baba aammar',\n",
       " 'Codanics',\n",
       " 478,\n",
       " 53.2,\n",
       " False,\n",
       " 3,\n",
       " 5,\n",
       " 'baba aammar',\n",
       " 'Codanics',\n",
       " 478,\n",
       " 53.2,\n",
       " False]"
      ]
     },
     "execution_count": 207,
     "metadata": {},
     "output_type": "execute_result"
    }
   ],
   "source": [
    "list2*2"
   ]
  },
  {
   "cell_type": "code",
   "execution_count": 213,
   "id": "f009559e-31a8-4aa9-a95d-73fce03a55b1",
   "metadata": {},
   "outputs": [
    {
     "data": {
      "text/plain": [
       "[2, 'Baba Aammar', False]"
      ]
     },
     "execution_count": 213,
     "metadata": {},
     "output_type": "execute_result"
    }
   ],
   "source": [
    "list1"
   ]
  },
  {
   "cell_type": "code",
   "execution_count": 225,
   "id": "bc8ead9e-5896-4675-b15a-5e64a86fb0a2",
   "metadata": {},
   "outputs": [
    {
     "data": {
      "text/plain": [
       "[False, 'Baba Aammar', 2]"
      ]
     },
     "execution_count": 225,
     "metadata": {},
     "output_type": "execute_result"
    }
   ],
   "source": [
    "list1.reverse()\n",
    "list1"
   ]
  },
  {
   "cell_type": "code",
   "execution_count": 247,
   "id": "c4814e60-3015-4015-8378-b8c3910e9ef6",
   "metadata": {},
   "outputs": [
    {
     "data": {
      "text/plain": [
       "[False,\n",
       " 'Baba Aammar',\n",
       " 2,\n",
       " 'codanics youtube channel',\n",
       " 'codanics youtube channel',\n",
       " 'codanics youtube channel']"
      ]
     },
     "execution_count": 247,
     "metadata": {},
     "output_type": "execute_result"
    }
   ],
   "source": [
    "list1.append(\"codanics youtube channel\")\n",
    "list1"
   ]
  },
  {
   "cell_type": "code",
   "execution_count": 239,
   "id": "b6d87098-1fa0-44d5-b1bd-de1ee515fc40",
   "metadata": {},
   "outputs": [
    {
     "data": {
      "text/plain": [
       "[False, 'Baba Aammar', 2, 'codanics youtube channel']"
      ]
     },
     "execution_count": 239,
     "metadata": {},
     "output_type": "execute_result"
    }
   ],
   "source": [
    "list1.remove(\"codanics youtube channel\")\n",
    "list1"
   ]
  },
  {
   "cell_type": "code",
   "execution_count": 249,
   "id": "672a1f42-c702-4d55-802e-7166f7b25c8c",
   "metadata": {},
   "outputs": [
    {
     "data": {
      "text/plain": [
       "3"
      ]
     },
     "execution_count": 249,
     "metadata": {},
     "output_type": "execute_result"
    }
   ],
   "source": [
    "list1.count(\"codanics youtube channel\")"
   ]
  },
  {
   "cell_type": "code",
   "execution_count": 291,
   "id": "96e2abd0-1ba4-4eb4-b70f-c6f5adab93a1",
   "metadata": {},
   "outputs": [
    {
     "data": {
      "text/plain": [
       "[9, 2, 4, 5, 1, 'Aammar', False]"
      ]
     },
     "execution_count": 291,
     "metadata": {},
     "output_type": "execute_result"
    }
   ],
   "source": [
    "list4 = [9,2,4,5,1,\"Aammar\", False]\n",
    "list4"
   ]
  },
  {
   "cell_type": "code",
   "execution_count": 293,
   "id": "8c4bb674-c597-46ac-ad1d-9030efc83ed7",
   "metadata": {},
   "outputs": [
    {
     "data": {
      "text/plain": [
       "[9, 2, 4, 5, 1, 'Aammar', False, '6', '6']"
      ]
     },
     "execution_count": 293,
     "metadata": {},
     "output_type": "execute_result"
    }
   ],
   "source": [
    "list4.extend('66')\n",
    "list4"
   ]
  },
  {
   "cell_type": "code",
   "execution_count": 321,
   "id": "cc58a34c-a00c-4df9-a06c-92984238960e",
   "metadata": {},
   "outputs": [
    {
     "data": {
      "text/plain": [
       "[9, 2, 4, 5, 1, 'Aammar', False, '6', '6', 100, 100, 100, 100, 100]"
      ]
     },
     "execution_count": 321,
     "metadata": {},
     "output_type": "execute_result"
    }
   ],
   "source": [
    "list4.append(100)\n",
    "list4\n"
   ]
  },
  {
   "cell_type": "code",
   "execution_count": 329,
   "id": "b8c33968-32ca-4bd7-b798-8a7db9e2fe23",
   "metadata": {},
   "outputs": [
    {
     "data": {
      "text/plain": [
       "[9, 2, 4, 5, 1, 'Aammar', False, '6', '6', 100]"
      ]
     },
     "execution_count": 329,
     "metadata": {},
     "output_type": "execute_result"
    }
   ],
   "source": [
    "list4.remove(100)\n",
    "list4"
   ]
  },
  {
   "cell_type": "code",
   "execution_count": 335,
   "id": "e2108278-b05d-407d-bf4b-9399c4b1aa71",
   "metadata": {},
   "outputs": [
    {
     "data": {
      "text/plain": [
       "[9, 2, 4, 5, 1, 'Aammar', False, '6', '6', 100, 'apple', 'apple', [99, 88]]"
      ]
     },
     "execution_count": 335,
     "metadata": {},
     "output_type": "execute_result"
    }
   ],
   "source": [
    "list4.append([99,88])\n",
    "list4"
   ]
  },
  {
   "cell_type": "code",
   "execution_count": 341,
   "id": "f13b1f95-4fa0-4a5d-90cd-3e60421adc3d",
   "metadata": {},
   "outputs": [
    {
     "data": {
      "text/plain": [
       "[9,\n",
       " 2,\n",
       " 4,\n",
       " 5,\n",
       " 1,\n",
       " 'Aammar',\n",
       " False,\n",
       " '6',\n",
       " '6',\n",
       " 100,\n",
       " 'apple',\n",
       " 'apple',\n",
       " [99, 88],\n",
       " 'codanics',\n",
       " 250,\n",
       " 'codanics',\n",
       " 250,\n",
       " 'codanics',\n",
       " 250]"
      ]
     },
     "execution_count": 341,
     "metadata": {},
     "output_type": "execute_result"
    }
   ],
   "source": [
    "for i in [\"codanics\", 250]:\n",
    "    list4.append(i)\n",
    "list4"
   ]
  },
  {
   "cell_type": "markdown",
   "id": "840fc46b-62ca-499d-8c51-afec674b458c",
   "metadata": {},
   "source": [
    "## Dictionaries\n",
    "- An unordered of elements\n",
    "- key and value\n",
    "- curley braces/brackets {}\n",
    "- Mutable/Change the values"
   ]
  },
  {
   "cell_type": "code",
   "execution_count": 344,
   "id": "b0f4c092-7469-4f40-a551-cae2e03a2a1d",
   "metadata": {},
   "outputs": [
    {
     "data": {
      "text/plain": [
       "{'Samosa': 30, 'Pakora': 100, 'Raita': 20, 'Salad': 50, 'Chicken Rolls': 30}"
      ]
     },
     "execution_count": 344,
     "metadata": {},
     "output_type": "execute_result"
    }
   ],
   "source": [
    "#Food and their prices\n",
    "food1 = {\"Samosa\":30, \"Pakora\":100, \"Raita\":20, \"Salad\":50, \"Chicken Rolls\":30 }\n",
    "food1"
   ]
  },
  {
   "cell_type": "code",
   "execution_count": 346,
   "id": "53fb34e8-4046-4221-806a-25284650b3c8",
   "metadata": {},
   "outputs": [
    {
     "data": {
      "text/plain": [
       "dict"
      ]
     },
     "execution_count": 346,
     "metadata": {},
     "output_type": "execute_result"
    }
   ],
   "source": [
    "type(food1)"
   ]
  },
  {
   "cell_type": "code",
   "execution_count": 350,
   "id": "a2fdcac5-605d-4a71-81bf-f13ed14c9730",
   "metadata": {},
   "outputs": [
    {
     "data": {
      "text/plain": [
       "dict_keys(['Samosa', 'Pakora', 'Raita', 'Salad', 'Chicken Rolls'])"
      ]
     },
     "execution_count": 350,
     "metadata": {},
     "output_type": "execute_result"
    }
   ],
   "source": [
    "# extract data\n",
    "keys1 = food1.keys()\n",
    "keys1"
   ]
  },
  {
   "cell_type": "code",
   "execution_count": 358,
   "id": "7d982bfe-34a2-4360-b5da-2327f717df20",
   "metadata": {},
   "outputs": [
    {
     "data": {
      "text/plain": [
       "dict_values([30, 100, 20, 50, 30])"
      ]
     },
     "execution_count": 358,
     "metadata": {},
     "output_type": "execute_result"
    }
   ],
   "source": [
    "food1.values()"
   ]
  },
  {
   "cell_type": "code",
   "execution_count": 360,
   "id": "fb86f0d2-ba1a-4136-9101-3a37d7229cf9",
   "metadata": {},
   "outputs": [
    {
     "data": {
      "text/plain": [
       "dict_values([30, 100, 20, 50, 30])"
      ]
     },
     "execution_count": 360,
     "metadata": {},
     "output_type": "execute_result"
    }
   ],
   "source": [
    "values1 = food1.values()\n",
    "values1"
   ]
  },
  {
   "cell_type": "code",
   "execution_count": 368,
   "id": "b18f2dea-dbb9-485b-a29f-f85eda9290b1",
   "metadata": {},
   "outputs": [
    {
     "data": {
      "text/plain": [
       "{'Samosa': 30,\n",
       " 'Pakora': 100,\n",
       " 'Raita': 20,\n",
       " 'Salad': 50,\n",
       " 'Chicken Rolls': 30,\n",
       " 'Tikki': 10}"
      ]
     },
     "execution_count": 368,
     "metadata": {},
     "output_type": "execute_result"
    }
   ],
   "source": [
    "# adding new element\n",
    "food1[\"Tikki\"]=10\n",
    "food1"
   ]
  },
  {
   "cell_type": "code",
   "execution_count": 372,
   "id": "ef8c616b-57c8-4ded-aed9-6d00f6693152",
   "metadata": {},
   "outputs": [
    {
     "data": {
      "text/plain": [
       "{'Samosa': 30,\n",
       " 'Pakora': 80,\n",
       " 'Raita': 20,\n",
       " 'Salad': 50,\n",
       " 'Chicken Rolls': 30,\n",
       " 'Tikki': 15}"
      ]
     },
     "execution_count": 372,
     "metadata": {},
     "output_type": "execute_result"
    }
   ],
   "source": [
    "# update the values\n",
    "food1[\"Tikki\"]=15\n",
    "food1[\"Pakora\"]=80\n",
    "food1"
   ]
  },
  {
   "cell_type": "code",
   "execution_count": 374,
   "id": "9ac83536-8d25-4ef7-a7f9-a2992b38f4cd",
   "metadata": {},
   "outputs": [
    {
     "data": {
      "text/plain": [
       "{'chocolates': 200, 'Dates': 100, 'Sawaiyan': 500}"
      ]
     },
     "execution_count": 374,
     "metadata": {},
     "output_type": "execute_result"
    }
   ],
   "source": [
    "food2 = {\"chocolates\":200, \"Dates\":100, \"Sawaiyan\":500}\n",
    "food2"
   ]
  },
  {
   "cell_type": "code",
   "execution_count": 376,
   "id": "4ee101b7-74e9-4c05-95cd-571d0d4ccd11",
   "metadata": {},
   "outputs": [
    {
     "data": {
      "text/plain": [
       "{'Samosa': 30,\n",
       " 'Pakora': 80,\n",
       " 'Raita': 20,\n",
       " 'Salad': 50,\n",
       " 'Chicken Rolls': 30,\n",
       " 'Tikki': 15,\n",
       " 'chocolates': 200,\n",
       " 'Dates': 100,\n",
       " 'Sawaiyan': 500}"
      ]
     },
     "execution_count": 376,
     "metadata": {},
     "output_type": "execute_result"
    }
   ],
   "source": [
    "#concatinate\n",
    "food1.update(food2)\n",
    "food1"
   ]
  },
  {
   "cell_type": "markdown",
   "id": "73e63c13-8b24-46c5-a9d6-344bf4de841f",
   "metadata": {},
   "source": [
    "## 4 - Sets\n",
    "- unordered and unindexed\n",
    "- curley bracket/braces {}\n",
    "- No duplicates"
   ]
  },
  {
   "cell_type": "code",
   "execution_count": 383,
   "id": "206e1996-d8c9-4bc6-a0e7-9795c246c8b2",
   "metadata": {},
   "outputs": [
    {
     "data": {
      "text/plain": [
       "{1, 2.2, 5.2, 'Aammar', 'Codanics', 'Faislabad'}"
      ]
     },
     "execution_count": 383,
     "metadata": {},
     "output_type": "execute_result"
    }
   ],
   "source": [
    "s1 = {1, 2.2, 5.2, \"Aammar\", \"Codanics\", \"Faislabad\", True}\n",
    "s1"
   ]
  },
  {
   "cell_type": "code",
   "execution_count": 402,
   "id": "174deea1-d56a-4600-8e49-674c228cc713",
   "metadata": {},
   "outputs": [
    {
     "data": {
      "text/plain": [
       "{1, 2.2, 5.2, 'Aammar', 'Aammar1', 'Codanics', 'Faislabad'}"
      ]
     },
     "execution_count": 402,
     "metadata": {},
     "output_type": "execute_result"
    }
   ],
   "source": [
    "s1.add(\"Aammar1\")\n",
    "s1"
   ]
  },
  {
   "cell_type": "code",
   "execution_count": 404,
   "id": "846e1aa2-1a1b-40a1-a996-2313bae17257",
   "metadata": {},
   "outputs": [
    {
     "data": {
      "text/plain": [
       "{1, 2.2, 5.2, 'Aammar', 'Codanics', 'Faislabad'}"
      ]
     },
     "execution_count": 404,
     "metadata": {},
     "output_type": "execute_result"
    }
   ],
   "source": [
    "s1.remove(\"Aammar1\")\n",
    "s1"
   ]
  }
 ],
 "metadata": {
  "kernelspec": {
   "display_name": "Python 3 (ipykernel)",
   "language": "python",
   "name": "python3"
  },
  "language_info": {
   "codemirror_mode": {
    "name": "ipython",
    "version": 3
   },
   "file_extension": ".py",
   "mimetype": "text/x-python",
   "name": "python",
   "nbconvert_exporter": "python",
   "pygments_lexer": "ipython3",
   "version": "3.12.4"
  }
 },
 "nbformat": 4,
 "nbformat_minor": 5
}
