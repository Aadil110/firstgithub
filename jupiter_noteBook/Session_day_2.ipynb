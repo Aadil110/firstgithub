{
 "cells": [
  {
   "cell_type": "code",
   "execution_count": null,
   "id": "5aef2d23-cb0c-4d8e-ab9f-09ea925cbc01",
   "metadata": {},
   "outputs": [],
   "source": [
    "# Body Mass Index (BMI)\n",
    "# Input weight\n",
    "# Height\n",
    "# BMI ( Ask your height and weight )\n",
    "# weight\n",
    "# Print BMI ( My Name is ..., and my BMI is ...)\n"
   ]
  },
  {
   "cell_type": "code",
   "execution_count": null,
   "id": "e9c2800d-7f3d-455b-8630-fb6b89a32fa0",
   "metadata": {},
   "outputs": [],
   "source": [
    "weight = (60)\n",
    "height = (1.62)\n",
    "\n",
    "BMI= (weight/height)*2\n",
    "BMI"
   ]
  },
  {
   "cell_type": "code",
   "execution_count": 1,
   "id": "c67c6a5c-0c19-4077-b47d-85417db4d40d",
   "metadata": {},
   "outputs": [
    {
     "name": "stdout",
     "output_type": "stream",
     "text": [
      "what is your weight?  62\n"
     ]
    }
   ],
   "source": [
    "weight = input(\"what is your weight? \")"
   ]
  },
  {
   "cell_type": "code",
   "execution_count": 3,
   "id": "1ea5f460-6e16-4efd-b4c4-540b62aa59d6",
   "metadata": {},
   "outputs": [],
   "source": [
    "weight = float(weight)"
   ]
  },
  {
   "cell_type": "code",
   "execution_count": 11,
   "id": "7476fcfd-0561-4591-ab21-d692be06d20d",
   "metadata": {
    "scrolled": true
   },
   "outputs": [
    {
     "name": "stdout",
     "output_type": "stream",
     "text": [
      "what is your height?  1.65\n"
     ]
    }
   ],
   "source": [
    "height = input(\"what is your height? \")"
   ]
  },
  {
   "cell_type": "code",
   "execution_count": 13,
   "id": "6d54ab11-9124-4c55-9e59-26e852937259",
   "metadata": {},
   "outputs": [],
   "source": [
    "height = float(height)"
   ]
  },
  {
   "cell_type": "code",
   "execution_count": 15,
   "id": "3d048719-ef6d-444d-9703-abe66fbed737",
   "metadata": {},
   "outputs": [
    {
     "name": "stdout",
     "output_type": "stream",
     "text": [
      "what is your name?  Adil\n"
     ]
    }
   ],
   "source": [
    "name = input(\"what is your name? \")"
   ]
  },
  {
   "cell_type": "code",
   "execution_count": 17,
   "id": "7335bc83-350e-4012-84c5-c28186042054",
   "metadata": {},
   "outputs": [
    {
     "data": {
      "text/plain": [
       "22.77318640955005"
      ]
     },
     "execution_count": 17,
     "metadata": {},
     "output_type": "execute_result"
    }
   ],
   "source": [
    "BMI = weight/height**2\n",
    "BMI"
   ]
  },
  {
   "cell_type": "code",
   "execution_count": 19,
   "id": "fac134f1-993b-45bb-9689-08c5269081ed",
   "metadata": {},
   "outputs": [
    {
     "name": "stdout",
     "output_type": "stream",
     "text": [
      "My Name is Adil and my BMI is 22.77318640955005\n"
     ]
    }
   ],
   "source": [
    "print(\"My Name is\", name, \"and my BMI is\", BMI)"
   ]
  },
  {
   "cell_type": "code",
   "execution_count": null,
   "id": "65a6a284-04b6-4534-b37c-8b34290985ce",
   "metadata": {},
   "outputs": [],
   "source": []
  }
 ],
 "metadata": {
  "kernelspec": {
   "display_name": "Python 3 (ipykernel)",
   "language": "python",
   "name": "python3"
  },
  "language_info": {
   "codemirror_mode": {
    "name": "ipython",
    "version": 3
   },
   "file_extension": ".py",
   "mimetype": "text/x-python",
   "name": "python",
   "nbconvert_exporter": "python",
   "pygments_lexer": "ipython3",
   "version": "3.12.4"
  }
 },
 "nbformat": 4,
 "nbformat_minor": 5
}
