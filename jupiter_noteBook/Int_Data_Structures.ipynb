{
 "cells": [
  {
   "cell_type": "markdown",
   "id": "a65f9f61-cbfe-4c26-ad94-d79cf77d2a45",
   "metadata": {},
   "source": [
    "Import seaborn as sns"
   ]
  },
  {
   "cell_type": "code",
   "execution_count": null,
   "id": "9fe4e205-8005-4afd-824e-3ed0df83abc8",
   "metadata": {},
   "outputs": [],
   "source": [
    "Import matplotlib.pyplot as plt"
   ]
  },
  {
   "cell_type": "code",
   "execution_count": null,
   "id": "15ce1538-d98e-4a96-8b22-ffb8f1e1b25b",
   "metadata": {},
   "outputs": [],
   "source": [
    "sns.set_theme(style=\"ticks\", color_codes=True)"
   ]
  },
  {
   "cell_type": "code",
   "execution_count": null,
   "id": "fe95433a-1c00-4055-abc6-0aefee9e699f",
   "metadata": {},
   "outputs": [],
   "source": []
  },
  {
   "cell_type": "code",
   "execution_count": null,
   "id": "99dbfd1f-25c9-4bcc-8ec9-fc1d1eb73a97",
   "metadata": {},
   "outputs": [],
   "source": [
    "titanic = sns.load_dataset(\"titanic\")"
   ]
  },
  {
   "cell_type": "code",
   "execution_count": null,
   "id": "6a5818d5-a9d6-4ab1-b188-72516ba993ed",
   "metadata": {},
   "outputs": [],
   "source": [
    "sns.catplot(x=\"sex\", y=\"survived\", hue=\"class\", kind=\"bar\", data=titanic)"
   ]
  },
  {
   "cell_type": "code",
   "execution_count": null,
   "id": "876d0bc3-8bc5-4d23-b0c8-d81ad57a134f",
   "metadata": {},
   "outputs": [],
   "source": [
    "plt.show()"
   ]
  },
  {
   "cell_type": "code",
   "execution_count": null,
   "id": "fdc40d25-b200-4c99-9076-3918c8a3850e",
   "metadata": {},
   "outputs": [],
   "source": []
  }
 ],
 "metadata": {
  "kernelspec": {
   "display_name": "Python 3 (ipykernel)",
   "language": "python",
   "name": "python3"
  },
  "language_info": {
   "codemirror_mode": {
    "name": "ipython",
    "version": 3
   },
   "file_extension": ".py",
   "mimetype": "text/x-python",
   "name": "python",
   "nbconvert_exporter": "python",
   "pygments_lexer": "ipython3",
   "version": "3.12.4"
  }
 },
 "nbformat": 4,
 "nbformat_minor": 5
}
